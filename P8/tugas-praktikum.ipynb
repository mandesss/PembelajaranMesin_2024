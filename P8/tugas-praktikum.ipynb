{
 "cells": [
  {
   "cell_type": "markdown",
   "metadata": {},
   "source": [
    "# TUGAS\n",
    "\n",
    "1. Lakukan klasifikasi pada data MNIST dengan menggunakan model ANN\n",
    "\n",
    "2. Anda diperbolehkan melakukan eksplorasi terhadap,\n",
    "\n",
    "* Metode pra pengolahan\n",
    "\n",
    "* Pemilihan fitur\n",
    "\n",
    "* Arsitektur ANN\n",
    "\n",
    "* Fungsi Aktiviasi\n",
    "\n",
    "3. ANN diimplementasikan dengan menggunakan tensorflow.\n",
    "\n",
    "4. JELASKAN HASIL YANG ANDA DAPATKAN,\n",
    "\n",
    "* AKURASI\n",
    "\n",
    "* CONFUSION MATRIX\n",
    "\n",
    "* KONFIGURASI MODEL --> MULAI DARI PRA PENGOLAHAN SAMPAI ARSITEKTUR ANN"
   ]
  },
  {
   "cell_type": "markdown",
   "metadata": {},
   "source": [
    "#### **Import MNIST**"
   ]
  },
  {
   "cell_type": "code",
   "execution_count": 3,
   "metadata": {},
   "outputs": [
    {
     "name": "stdout",
     "output_type": "stream",
     "text": [
      "Downloading data from https://storage.googleapis.com/tensorflow/tf-keras-datasets/mnist.npz\n",
      "11490434/11490434 [==============================] - 9s 1us/step\n",
      "Shape of x_train: (60000, 28, 28)\n",
      "Shape of y_train: (60000,)\n",
      "Shape of x_test: (10000, 28, 28)\n",
      "Shape of y_test: (10000,)\n"
     ]
    }
   ],
   "source": [
    "import tensorflow as tf\n",
    "from tensorflow.keras import layers, models\n",
    "from tensorflow.keras.datasets import mnist\n",
    "import numpy as np\n",
    "import matplotlib.pyplot as plt\n",
    "from sklearn.metrics import confusion_matrix, classification_report\n",
    "import seaborn as sns\n",
    "\n",
    "# Mengimpor dataset MNIST\n",
    "(x_train, y_train), (x_test, y_test) = mnist.load_data()\n",
    "\n",
    "# Menampilkan bentuk data\n",
    "print(\"Shape of x_train:\", x_train.shape)\n",
    "print(\"Shape of y_train:\", y_train.shape)\n",
    "print(\"Shape of x_test:\", x_test.shape)\n",
    "print(\"Shape of y_test:\", y_test.shape)"
   ]
  },
  {
   "cell_type": "markdown",
   "metadata": {},
   "source": [
    "* Shape of x_train: Menunjukkan 60.000 data latih dengan setiap gambar berukuran 28x28 piksel.\n",
    "* Shape of y_train: Menunjukkan 60.000 label untuk data latih.\n",
    "* Shape of x_test: Menunjukkan 10.000 data uji dengan setiap gambar berukuran 28x28 piksel.\n",
    "* Shape of x_train: Menunjukkan 10.000 label untuk data uji."
   ]
  },
  {
   "cell_type": "markdown",
   "metadata": {},
   "source": [
    "#### **Pra Pengolahan Data**\n",
    "\n",
    "**Normalisasi**"
   ]
  },
  {
   "cell_type": "code",
   "execution_count": 4,
   "metadata": {},
   "outputs": [],
   "source": [
    "# Normalisasi data\n",
    "x_train = x_train.astype('float32') / 255.0\n",
    "x_test = x_test.astype('float32') / 255.0"
   ]
  },
  {
   "cell_type": "markdown",
   "metadata": {},
   "source": [
    "* Diubah ke tipe data float32 karena data gambar MNIST berformat integer (0-255). Sehingga, perlu diubah untuk membantu perhitungan lebih akurat & efisien.\n",
    "* Dibagi 255 karena nilai maks piksel adalah 255."
   ]
  },
  {
   "cell_type": "markdown",
   "metadata": {},
   "source": [
    "**Reshaping**"
   ]
  },
  {
   "cell_type": "code",
   "execution_count": 5,
   "metadata": {},
   "outputs": [],
   "source": [
    "# Mengubah bentuk data\n",
    "x_train = x_train.reshape((x_train.shape[0], 28 * 28))\n",
    "x_test = x_test.reshape((x_test.shape[0], 28 * 28))"
   ]
  },
  {
   "cell_type": "markdown",
   "metadata": {},
   "source": [
    "Mengubah bentuk data ke vektor, karena ANN membutuhkan data dalam bentuk vektor. Bentuk x_train berubah dari (60000, 28, 28) menjadi (60000, 784). Artinya, setiap gambar direpresentasikan sebagai vektor dengan 784 piksel."
   ]
  },
  {
   "cell_type": "markdown",
   "metadata": {},
   "source": [
    "**One-hot Encoding**"
   ]
  },
  {
   "cell_type": "code",
   "execution_count": 6,
   "metadata": {},
   "outputs": [],
   "source": [
    "from tensorflow.keras.utils import to_categorical\n",
    "\n",
    "# One-hot encoding\n",
    "y_train = to_categorical(y_train, num_classes=10)\n",
    "y_test = to_categorical(y_test, num_classes=10)"
   ]
  },
  {
   "cell_type": "markdown",
   "metadata": {},
   "source": [
    "Dilakukan one-hot encoding agar memastikan bahwa model tidak menganggap ada hubungan antara kelas-kelas, karena setiap kelas direpresentasikan secara independen."
   ]
  },
  {
   "cell_type": "markdown",
   "metadata": {},
   "source": [
    "#### **Metode ANN**\n",
    "\n",
    "**Arsitektur ANN**"
   ]
  },
  {
   "cell_type": "code",
   "execution_count": 7,
   "metadata": {},
   "outputs": [
    {
     "name": "stdout",
     "output_type": "stream",
     "text": [
      "Model: \"sequential\"\n",
      "_________________________________________________________________\n",
      " Layer (type)                Output Shape              Param #   \n",
      "=================================================================\n",
      " dense (Dense)               (None, 128)               100480    \n",
      "                                                                 \n",
      " dropout (Dropout)           (None, 128)               0         \n",
      "                                                                 \n",
      " dense_1 (Dense)             (None, 64)                8256      \n",
      "                                                                 \n",
      " dense_2 (Dense)             (None, 10)                650       \n",
      "                                                                 \n",
      "=================================================================\n",
      "Total params: 109,386\n",
      "Trainable params: 109,386\n",
      "Non-trainable params: 0\n",
      "_________________________________________________________________\n"
     ]
    }
   ],
   "source": [
    "# Membuat model ANN\n",
    "model = models.Sequential()\n",
    "model.add(layers.Dense(128, activation='relu', input_shape=(28 * 28,)))\n",
    "model.add(layers.Dropout(0.2))  # Regularization\n",
    "model.add(layers.Dense(64, activation='relu'))\n",
    "model.add(layers.Dense(10, activation='softmax'))\n",
    "\n",
    "# Menampilkan ringkasan model\n",
    "model.summary()"
   ]
  },
  {
   "cell_type": "markdown",
   "metadata": {},
   "source": [
    "* Dense Layer Pertama: Menghasilkan 128 neuron dengan jumlah batch tidak ditentukan. Memiliki nilai param 100480 sebagai hasil dari jumlah input (784) dikali jumlah neuron (128) ditambah bias untuk setiap neuron (128).\n",
    "* Dropout Layer: Bentuk output tetap dan tidak ada parameter yang dilatih.\n",
    "* Dense Layer Kedua: Memiliki 64 lapisan neuron dengan param merupakan hasil dari 128 * 64 + 64.\n",
    "* Dense Layer Ketiga (Output Layer): Memiliki 10 neuron dengan nilai param hasil dari 64 * 10 + 10."
   ]
  },
  {
   "cell_type": "markdown",
   "metadata": {},
   "source": [
    "**Kompilasi Model**"
   ]
  },
  {
   "cell_type": "code",
   "execution_count": 8,
   "metadata": {},
   "outputs": [],
   "source": [
    "# Kompilasi model\n",
    "model.compile(optimizer='adam',\n",
    "              loss='categorical_crossentropy',\n",
    "              metrics=['accuracy'])"
   ]
  },
  {
   "cell_type": "markdown",
   "metadata": {},
   "source": [
    "* Digunakan untuk mengatur optimizer dan fungsi loss yang akan digunakan selama proses pelatihan. Setelah dikompilasi, model siap untuk dilatih menggunakan data pelatihan yang telah disiapkan.\n",
    "* Adam: Menyesuaikan learning rate untuk setiap parameter.\n",
    "* Loss: Menghitung seberapa baik model memprediksi kelas yang benar dibandingkan dengan kelas yang diprediksi.\n",
    "* Metrics: Menentukan metrik yang akan digunakan untuk mengevaluasi kinerja model selama pelatihan dan pengujian."
   ]
  },
  {
   "cell_type": "markdown",
   "metadata": {},
   "source": [
    "**Melatih Model**"
   ]
  },
  {
   "cell_type": "code",
   "execution_count": 9,
   "metadata": {},
   "outputs": [
    {
     "name": "stdout",
     "output_type": "stream",
     "text": [
      "Epoch 1/10\n",
      "1500/1500 [==============================] - 6s 4ms/step - loss: 0.3190 - accuracy: 0.9054 - val_loss: 0.1352 - val_accuracy: 0.9616\n",
      "Epoch 2/10\n",
      "1500/1500 [==============================] - 5s 3ms/step - loss: 0.1440 - accuracy: 0.9566 - val_loss: 0.1096 - val_accuracy: 0.9672\n",
      "Epoch 3/10\n",
      "1500/1500 [==============================] - 5s 3ms/step - loss: 0.1104 - accuracy: 0.9662 - val_loss: 0.0986 - val_accuracy: 0.9728\n",
      "Epoch 4/10\n",
      "1500/1500 [==============================] - 5s 3ms/step - loss: 0.0941 - accuracy: 0.9701 - val_loss: 0.0988 - val_accuracy: 0.9717\n",
      "Epoch 5/10\n",
      "1500/1500 [==============================] - 5s 3ms/step - loss: 0.0787 - accuracy: 0.9747 - val_loss: 0.1102 - val_accuracy: 0.9675\n",
      "Epoch 6/10\n",
      "1500/1500 [==============================] - 5s 3ms/step - loss: 0.0713 - accuracy: 0.9764 - val_loss: 0.0857 - val_accuracy: 0.9764\n",
      "Epoch 7/10\n",
      "1500/1500 [==============================] - 5s 3ms/step - loss: 0.0634 - accuracy: 0.9802 - val_loss: 0.0956 - val_accuracy: 0.9728\n",
      "Epoch 8/10\n",
      "1500/1500 [==============================] - 5s 3ms/step - loss: 0.0567 - accuracy: 0.9820 - val_loss: 0.0905 - val_accuracy: 0.9739\n",
      "Epoch 9/10\n",
      "1500/1500 [==============================] - 5s 3ms/step - loss: 0.0517 - accuracy: 0.9825 - val_loss: 0.0899 - val_accuracy: 0.9768\n",
      "Epoch 10/10\n",
      "1500/1500 [==============================] - 5s 3ms/step - loss: 0.0487 - accuracy: 0.9840 - val_loss: 0.0871 - val_accuracy: 0.9769\n"
     ]
    }
   ],
   "source": [
    "# Melatih model\n",
    "history = model.fit(x_train, y_train, epochs=10, batch_size=32, validation_split=0.2)"
   ]
  },
  {
   "cell_type": "markdown",
   "metadata": {},
   "source": [
    "Output menunjukkan bahwa model ANN berhasil dilatih dengan baik. Model menunjukkan peningkatan dalam akurasi dan penurunan nilai loss pada setiap epoch, baik untuk data pelatihan maupun validasi. Ini adalah indikasi bahwa model dapat generalisasi dengan baik pada data yang tidak terlihat."
   ]
  },
  {
   "cell_type": "markdown",
   "metadata": {},
   "source": [
    "#### **Evaluasi Model**\n",
    "\n",
    "**Akurasi**"
   ]
  },
  {
   "cell_type": "code",
   "execution_count": 10,
   "metadata": {},
   "outputs": [
    {
     "name": "stdout",
     "output_type": "stream",
     "text": [
      "313/313 [==============================] - 1s 2ms/step - loss: 0.0746 - accuracy: 0.9793\n",
      "Test accuracy: 0.9793000221252441\n"
     ]
    }
   ],
   "source": [
    "# Mengevaluasi model\n",
    "test_loss, test_accuracy = model.evaluate(x_test, y_test)\n",
    "print(\"Test accuracy:\", test_accuracy)"
   ]
  },
  {
   "cell_type": "markdown",
   "metadata": {},
   "source": [
    "**Confusion Matrix**"
   ]
  },
  {
   "cell_type": "code",
   "execution_count": 11,
   "metadata": {},
   "outputs": [
    {
     "name": "stdout",
     "output_type": "stream",
     "text": [
      "313/313 [==============================] - 1s 2ms/step\n"
     ]
    },
    {
     "data": {
      "image/png": "[encoded data removed]",
      "text/plain": [
       "<Figure size 1000x700 with 2 Axes>"
      ]
     },
     "metadata": {},
     "output_type": "display_data"
    }
   ],
   "source": [
    "# Prediksi\n",
    "y_pred = model.predict(x_test)\n",
    "y_pred_classes = np.argmax(y_pred, axis=1)\n",
    "y_true = np.argmax(y_test, axis=1)\n",
    "\n",
    "# Confusion Matrix\n",
    "cm = confusion_matrix(y_true, y_pred_classes)\n",
    "\n",
    "# Visualisasi Confusion Matrix\n",
    "plt.figure(figsize=(10,7))\n",
    "sns.heatmap(cm, annot=True, fmt='d', cmap='Blues', xticklabels=range(10), yticklabels=range(10))\n",
    "plt.ylabel('Actual')\n",
    "plt.xlabel('Predicted')\n",
    "plt.title('Confusion Matrix')\n",
    "plt.show()"
   ]
  }
 ],
 "metadata": {
  "kernelspec": {
   "display_name": "tf_env",
   "language": "python",
   "name": "python3"
  },
  "language_info": {
   "codemirror_mode": {
    "name": "ipython",
    "version": 3
   },
   "file_extension": ".py",
   "mimetype": "text/x-python",
   "name": "python",
   "nbconvert_exporter": "python",
   "pygments_lexer": "ipython3",
   "version": "3.8.18"
  }
 },
 "nbformat": 4,
 "nbformat_minor": 2
}
