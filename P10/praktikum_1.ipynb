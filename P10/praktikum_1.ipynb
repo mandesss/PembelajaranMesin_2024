{
 "cells": [
  {
   "cell_type": "markdown",
   "metadata": {
    "id": "62vrTlqsR1Fh"
   },
   "source": [
    "# Praktikum 1"
   ]
  },
  {
   "cell_type": "markdown",
   "metadata": {
    "id": "EwtQw-02R1ah"
   },
   "source": [
    "Pada praktikum ini kita akan membuat model klasifikasi CNN sederhana pada kasus citra kucing dan anjing."
   ]
  },
  {
   "cell_type": "markdown",
   "metadata": {
    "id": "o2k0bHKOR6J9"
   },
   "source": [
    "## Langkah 1 - Import Library"
   ]
  },
  {
   "cell_type": "code",
   "execution_count": 2,
   "metadata": {
    "colab": {
     "base_uri": "https://localhost:8080/"
    },
    "id": "V_sof35JR9M6",
    "outputId": "b348fbc9-bfde-4aa5-e593-ad6521ee1f6c"
   },
   "outputs": [],
   "source": [
    "import tensorflow as tf\n",
    "from tensorflow.keras.preprocessing.image import ImageDataGenerator"
   ]
  },
  {
   "cell_type": "markdown",
   "metadata": {
    "id": "yaS45kYeSAN6"
   },
   "source": [
    "## Langkah 2 - Pra Pengolahan Data"
   ]
  },
  {
   "cell_type": "markdown",
   "metadata": {
    "id": "JSgh3NVcSaXU"
   },
   "source": [
    "### Langkah 2.1 - Pra Pengolahan Data Training"
   ]
  },
  {
   "cell_type": "code",
   "execution_count": null,
   "metadata": {
    "colab": {
     "base_uri": "https://localhost:8080/"
    },
    "id": "HVirWS3KSZNj",
    "outputId": "eb30e146-ded8-4e48-e50d-95d6a147b2bf"
   },
   "outputs": [
    {
     "name": "stdout",
     "output_type": "stream",
     "text": [
      "Found 8093 images belonging to 2 classes.\n"
     ]
    }
   ],
   "source": [
    "train_datagen = ImageDataGenerator(rescale = 1./255,\n",
    "                                   shear_range = 0.2,\n",
    "                                   zoom_range = 0.2,\n",
    "                                   horizontal_flip = True)\n",
    "training_set = train_datagen.flow_from_directory('dataset/training_set',\n",
    "                                                 target_size = (64, 64),\n",
    "                                                 batch_size = 32,\n",
    "                                                 class_mode = 'binary')"
   ]
  },
  {
   "cell_type": "markdown",
   "metadata": {
    "id": "ehFGf7HWVNyW"
   },
   "source": [
    "### Langkah 2.2 - Pra Pengolahan Data Testing"
   ]
  },
  {
   "cell_type": "code",
   "execution_count": null,
   "metadata": {
    "colab": {
     "base_uri": "https://localhost:8080/"
    },
    "id": "shvbxPg3VUke",
    "outputId": "b5e1b62c-94ee-4333-b2ad-59eb9f616f45"
   },
   "outputs": [
    {
     "name": "stdout",
     "output_type": "stream",
     "text": [
      "Found 2006 images belonging to 2 classes.\n"
     ]
    }
   ],
   "source": [
    "test_datagen = ImageDataGenerator(rescale = 1./255)\n",
    "test_set = test_datagen.flow_from_directory('dataset/test_set',\n",
    "                                            target_size = (64, 64),\n",
    "                                            batch_size = 32,\n",
    "                                            class_mode = 'binary')"
   ]
  },
  {
   "cell_type": "markdown",
   "metadata": {
    "id": "pqAN987uVWAU"
   },
   "source": [
    "## Langkah 3 - Pembuatan Model CNN"
   ]
  },
  {
   "cell_type": "markdown",
   "metadata": {
    "id": "R5-kNAYKVZWZ"
   },
   "source": [
    "### Langkah 3.1 - Inisiasi Model CNN"
   ]
  },
  {
   "cell_type": "code",
   "execution_count": 4,
   "metadata": {
    "id": "Wvc4rGCLVecp"
   },
   "outputs": [],
   "source": [
    "cnn = tf.keras.models.Sequential()"
   ]
  },
  {
   "cell_type": "markdown",
   "metadata": {
    "id": "xxjGkGWgVhls"
   },
   "source": [
    "### Langkah 3.2 - Pembuatan Layer Konvolusi 1"
   ]
  },
  {
   "cell_type": "code",
   "execution_count": 5,
   "metadata": {
    "colab": {
     "base_uri": "https://localhost:8080/"
    },
    "id": "LdM403hHVn_r",
    "outputId": "db9c8fec-aa61-4b60-a318-815b338d9035"
   },
   "outputs": [
    {
     "name": "stderr",
     "output_type": "stream",
     "text": [
      "/usr/local/lib/python3.10/dist-packages/keras/src/layers/convolutional/base_conv.py:107: UserWarning: Do not pass an `input_shape`/`input_dim` argument to a layer. When using Sequential models, prefer using an `Input(shape)` object as the first layer in the model instead.\n",
      "  super().__init__(activity_regularizer=activity_regularizer, **kwargs)\n"
     ]
    }
   ],
   "source": [
    "cnn.add(tf.keras.layers.Conv2D(filters=32, kernel_size=3, activation='relu', input_shape=[64, 64, 3]))"
   ]
  },
  {
   "cell_type": "markdown",
   "metadata": {
    "id": "LwbdPbhhV5Kw"
   },
   "source": [
    "### Langkah 3.3 - Pembuatan Layer Pooling 1"
   ]
  },
  {
   "cell_type": "code",
   "execution_count": 6,
   "metadata": {
    "id": "her3H_TFV5sC"
   },
   "outputs": [],
   "source": [
    "cnn.add(tf.keras.layers.MaxPool2D(pool_size=2, strides=2))"
   ]
  },
  {
   "cell_type": "markdown",
   "metadata": {
    "id": "pb7WAqaWVp4b"
   },
   "source": [
    "### Langkah 3.4 - Pembuatan Layer Konvolusi 2 dan Pooling 2"
   ]
  },
  {
   "cell_type": "code",
   "execution_count": 7,
   "metadata": {
    "id": "3L730x9RV4EX"
   },
   "outputs": [],
   "source": [
    "cnn.add(tf.keras.layers.Conv2D(filters=32, kernel_size=3, activation='relu'))\n",
    "cnn.add(tf.keras.layers.MaxPool2D(pool_size=2, strides=2))"
   ]
  },
  {
   "cell_type": "markdown",
   "metadata": {
    "id": "yF3WDKTEWSUJ"
   },
   "source": [
    "### Langkah 3.5 - Flattening"
   ]
  },
  {
   "cell_type": "code",
   "execution_count": 8,
   "metadata": {
    "id": "Qu1WgwbRWW8c"
   },
   "outputs": [],
   "source": [
    "cnn.add(tf.keras.layers.Flatten())"
   ]
  },
  {
   "cell_type": "markdown",
   "metadata": {
    "id": "a_VJcauyWbiV"
   },
   "source": [
    "### Langkah 3.6 - Fully Connected Layer 1 (Input)"
   ]
  },
  {
   "cell_type": "code",
   "execution_count": 9,
   "metadata": {
    "id": "KgLXF0cCWY3_"
   },
   "outputs": [],
   "source": [
    "cnn.add(tf.keras.layers.Dense(units=128, activation='relu'))"
   ]
  },
  {
   "cell_type": "markdown",
   "metadata": {
    "id": "m6tBq9gFWtXN"
   },
   "source": [
    "### Langkah 3.7 - Fully Connected Layer 2 (Output)"
   ]
  },
  {
   "cell_type": "code",
   "execution_count": 10,
   "metadata": {
    "id": "p2kx2of9XCRX"
   },
   "outputs": [],
   "source": [
    "cnn.add(tf.keras.layers.Dense(units=1, activation='sigmoid'))"
   ]
  },
  {
   "cell_type": "markdown",
   "metadata": {
    "id": "p3HmGVtrXFC_"
   },
   "source": [
    "### Langkah 3.8 - Compile Model CNN"
   ]
  },
  {
   "cell_type": "code",
   "execution_count": 11,
   "metadata": {
    "id": "6yhU9dYUXOFC"
   },
   "outputs": [],
   "source": [
    "cnn.compile(optimizer = 'adam', loss = 'binary_crossentropy', metrics = ['accuracy'])"
   ]
  },
  {
   "cell_type": "markdown",
   "metadata": {
    "id": "eHooQNhoXO0q"
   },
   "source": [
    "## Langkah 4 - Fit CNN"
   ]
  },
  {
   "cell_type": "code",
   "execution_count": 12,
   "metadata": {
    "colab": {
     "base_uri": "https://localhost:8080/"
    },
    "id": "EAiG4VrSXV6y",
    "outputId": "dcff69d3-7554-4b61-9fd8-200e01e5ea26"
   },
   "outputs": [
    {
     "name": "stdout",
     "output_type": "stream",
     "text": [
      "Epoch 1/25\n"
     ]
    },
    {
     "name": "stderr",
     "output_type": "stream",
     "text": [
      "/usr/local/lib/python3.10/dist-packages/keras/src/trainers/data_adapters/py_dataset_adapter.py:121: UserWarning: Your `PyDataset` class should call `super().__init__(**kwargs)` in its constructor. `**kwargs` can include `workers`, `use_multiprocessing`, `max_queue_size`. Do not pass these arguments to `fit()`, as they will be ignored.\n",
      "  self._warn_if_super_not_called()\n"
     ]
    },
    {
     "name": "stdout",
     "output_type": "stream",
     "text": [
      "\u001b[1m253/253\u001b[0m \u001b[32m━━━━━━━━━━━━━━━━━━━━\u001b[0m\u001b[37m\u001b[0m \u001b[1m1338s\u001b[0m 5s/step - accuracy: 0.5424 - loss: 0.6896 - val_accuracy: 0.6535 - val_loss: 0.6143\n",
      "Epoch 2/25\n",
      "\u001b[1m253/253\u001b[0m \u001b[32m━━━━━━━━━━━━━━━━━━━━\u001b[0m\u001b[37m\u001b[0m \u001b[1m109s\u001b[0m 423ms/step - accuracy: 0.6743 - loss: 0.5980 - val_accuracy: 0.7173 - val_loss: 0.5505\n",
      "Epoch 3/25\n",
      "\u001b[1m253/253\u001b[0m \u001b[32m━━━━━━━━━━━━━━━━━━━━\u001b[0m\u001b[37m\u001b[0m \u001b[1m118s\u001b[0m 460ms/step - accuracy: 0.7090 - loss: 0.5591 - val_accuracy: 0.7278 - val_loss: 0.5580\n",
      "Epoch 4/25\n",
      "\u001b[1m253/253\u001b[0m \u001b[32m━━━━━━━━━━━━━━━━━━━━\u001b[0m\u001b[37m\u001b[0m \u001b[1m112s\u001b[0m 434ms/step - accuracy: 0.7416 - loss: 0.5162 - val_accuracy: 0.7488 - val_loss: 0.5211\n",
      "Epoch 5/25\n",
      "\u001b[1m253/253\u001b[0m \u001b[32m━━━━━━━━━━━━━━━━━━━━\u001b[0m\u001b[37m\u001b[0m \u001b[1m108s\u001b[0m 422ms/step - accuracy: 0.7598 - loss: 0.4948 - val_accuracy: 0.7632 - val_loss: 0.5139\n",
      "Epoch 6/25\n",
      "\u001b[1m253/253\u001b[0m \u001b[32m━━━━━━━━━━━━━━━━━━━━\u001b[0m\u001b[37m\u001b[0m \u001b[1m140s\u001b[0m 415ms/step - accuracy: 0.7691 - loss: 0.4808 - val_accuracy: 0.7717 - val_loss: 0.4895\n",
      "Epoch 7/25\n",
      "\u001b[1m253/253\u001b[0m \u001b[32m━━━━━━━━━━━━━━━━━━━━\u001b[0m\u001b[37m\u001b[0m \u001b[1m171s\u001b[0m 527ms/step - accuracy: 0.7876 - loss: 0.4525 - val_accuracy: 0.7817 - val_loss: 0.4733\n",
      "Epoch 8/25\n",
      "\u001b[1m253/253\u001b[0m \u001b[32m━━━━━━━━━━━━━━━━━━━━\u001b[0m\u001b[37m\u001b[0m \u001b[1m109s\u001b[0m 400ms/step - accuracy: 0.7846 - loss: 0.4455 - val_accuracy: 0.8021 - val_loss: 0.4600\n",
      "Epoch 9/25\n",
      "\u001b[1m253/253\u001b[0m \u001b[32m━━━━━━━━━━━━━━━━━━━━\u001b[0m\u001b[37m\u001b[0m \u001b[1m107s\u001b[0m 418ms/step - accuracy: 0.7931 - loss: 0.4377 - val_accuracy: 0.7697 - val_loss: 0.4971\n",
      "Epoch 10/25\n",
      "\u001b[1m253/253\u001b[0m \u001b[32m━━━━━━━━━━━━━━━━━━━━\u001b[0m\u001b[37m\u001b[0m \u001b[1m108s\u001b[0m 418ms/step - accuracy: 0.7977 - loss: 0.4229 - val_accuracy: 0.7687 - val_loss: 0.5009\n",
      "Epoch 11/25\n",
      "\u001b[1m253/253\u001b[0m \u001b[32m━━━━━━━━━━━━━━━━━━━━\u001b[0m\u001b[37m\u001b[0m \u001b[1m110s\u001b[0m 428ms/step - accuracy: 0.8192 - loss: 0.3966 - val_accuracy: 0.7941 - val_loss: 0.4594\n",
      "Epoch 12/25\n",
      "\u001b[1m253/253\u001b[0m \u001b[32m━━━━━━━━━━━━━━━━━━━━\u001b[0m\u001b[37m\u001b[0m \u001b[1m137s\u001b[0m 410ms/step - accuracy: 0.8164 - loss: 0.3884 - val_accuracy: 0.8131 - val_loss: 0.4455\n",
      "Epoch 13/25\n",
      "\u001b[1m253/253\u001b[0m \u001b[32m━━━━━━━━━━━━━━━━━━━━\u001b[0m\u001b[37m\u001b[0m \u001b[1m151s\u001b[0m 447ms/step - accuracy: 0.8234 - loss: 0.3894 - val_accuracy: 0.8021 - val_loss: 0.4374\n",
      "Epoch 14/25\n",
      "\u001b[1m253/253\u001b[0m \u001b[32m━━━━━━━━━━━━━━━━━━━━\u001b[0m\u001b[37m\u001b[0m \u001b[1m140s\u001b[0m 437ms/step - accuracy: 0.8173 - loss: 0.3932 - val_accuracy: 0.7966 - val_loss: 0.4627\n",
      "Epoch 15/25\n",
      "\u001b[1m253/253\u001b[0m \u001b[32m━━━━━━━━━━━━━━━━━━━━\u001b[0m\u001b[37m\u001b[0m \u001b[1m107s\u001b[0m 413ms/step - accuracy: 0.8375 - loss: 0.3591 - val_accuracy: 0.8185 - val_loss: 0.4396\n",
      "Epoch 16/25\n",
      "\u001b[1m253/253\u001b[0m \u001b[32m━━━━━━━━━━━━━━━━━━━━\u001b[0m\u001b[37m\u001b[0m \u001b[1m150s\u001b[0m 446ms/step - accuracy: 0.8382 - loss: 0.3540 - val_accuracy: 0.8151 - val_loss: 0.4337\n",
      "Epoch 17/25\n",
      "\u001b[1m253/253\u001b[0m \u001b[32m━━━━━━━━━━━━━━━━━━━━\u001b[0m\u001b[37m\u001b[0m \u001b[1m134s\u001b[0m 415ms/step - accuracy: 0.8480 - loss: 0.3422 - val_accuracy: 0.7991 - val_loss: 0.4775\n",
      "Epoch 18/25\n",
      "\u001b[1m253/253\u001b[0m \u001b[32m━━━━━━━━━━━━━━━━━━━━\u001b[0m\u001b[37m\u001b[0m \u001b[1m107s\u001b[0m 415ms/step - accuracy: 0.8404 - loss: 0.3438 - val_accuracy: 0.8071 - val_loss: 0.4614\n",
      "Epoch 19/25\n",
      "\u001b[1m253/253\u001b[0m \u001b[32m━━━━━━━━━━━━━━━━━━━━\u001b[0m\u001b[37m\u001b[0m \u001b[1m141s\u001b[0m 411ms/step - accuracy: 0.8603 - loss: 0.3301 - val_accuracy: 0.8180 - val_loss: 0.4371\n",
      "Epoch 20/25\n",
      "\u001b[1m253/253\u001b[0m \u001b[32m━━━━━━━━━━━━━━━━━━━━\u001b[0m\u001b[37m\u001b[0m \u001b[1m150s\u001b[0m 441ms/step - accuracy: 0.8574 - loss: 0.3216 - val_accuracy: 0.8141 - val_loss: 0.4563\n",
      "Epoch 21/25\n",
      "\u001b[1m253/253\u001b[0m \u001b[32m━━━━━━━━━━━━━━━━━━━━\u001b[0m\u001b[37m\u001b[0m \u001b[1m106s\u001b[0m 412ms/step - accuracy: 0.8692 - loss: 0.3020 - val_accuracy: 0.8190 - val_loss: 0.4368\n",
      "Epoch 22/25\n",
      "\u001b[1m253/253\u001b[0m \u001b[32m━━━━━━━━━━━━━━━━━━━━\u001b[0m\u001b[37m\u001b[0m \u001b[1m150s\u001b[0m 447ms/step - accuracy: 0.8694 - loss: 0.3012 - val_accuracy: 0.8081 - val_loss: 0.4885\n",
      "Epoch 23/25\n",
      "\u001b[1m253/253\u001b[0m \u001b[32m━━━━━━━━━━━━━━━━━━━━\u001b[0m\u001b[37m\u001b[0m \u001b[1m142s\u001b[0m 445ms/step - accuracy: 0.8688 - loss: 0.2969 - val_accuracy: 0.8141 - val_loss: 0.4899\n",
      "Epoch 24/25\n",
      "\u001b[1m253/253\u001b[0m \u001b[32m━━━━━━━━━━━━━━━━━━━━\u001b[0m\u001b[37m\u001b[0m \u001b[1m135s\u001b[0m 418ms/step - accuracy: 0.8745 - loss: 0.2866 - val_accuracy: 0.8161 - val_loss: 0.4733\n",
      "Epoch 25/25\n",
      "\u001b[1m253/253\u001b[0m \u001b[32m━━━━━━━━━━━━━━━━━━━━\u001b[0m\u001b[37m\u001b[0m \u001b[1m105s\u001b[0m 411ms/step - accuracy: 0.8874 - loss: 0.2757 - val_accuracy: 0.8056 - val_loss: 0.5007\n"
     ]
    },
    {
     "data": {
      "text/plain": [
       "<keras.src.callbacks.history.History at 0x7947caa1d000>"
      ]
     },
     "execution_count": 12,
     "metadata": {},
     "output_type": "execute_result"
    }
   ],
   "source": [
    "cnn.fit(x = training_set, validation_data = test_set, epochs = 25)"
   ]
  },
  {
   "cell_type": "markdown",
   "metadata": {
    "id": "HH38UpCgaOu4"
   },
   "source": [
    "## Langkah 5 - Prediksi dengan 1 Citra"
   ]
  },
  {
   "cell_type": "code",
   "execution_count": 14,
   "metadata": {
    "colab": {
     "base_uri": "https://localhost:8080/"
    },
    "id": "EqAbnTMmaTC1",
    "outputId": "627e678b-075f-421c-b34a-e930540356b4"
   },
   "outputs": [
    {
     "name": "stdout",
     "output_type": "stream",
     "text": [
      "\u001b[1m1/1\u001b[0m \u001b[32m━━━━━━━━━━━━━━━━━━━━\u001b[0m\u001b[37m\u001b[0m \u001b[1m0s\u001b[0m 115ms/step\n"
     ]
    }
   ],
   "source": [
    "import numpy as np\n",
    "from keras.preprocessing import image\n",
    "test_image = image.load_img('/content/drive/MyDrive/dataset/single_prediction/cat_or_dog_1.jpg', target_size = (64, 64))\n",
    "test_image = image.img_to_array(test_image)\n",
    "test_image = np.expand_dims(test_image, axis = 0)\n",
    "result = cnn.predict(test_image)\n",
    "training_set.class_indices\n",
    "if result[0][0] == 1:\n",
    "  prediction = 'dog'\n",
    "else:\n",
    "  prediction = 'cat'"
   ]
  }
 ],
 "metadata": {
  "colab": {
   "authorship_tag": "ABX9TyNt3nDRhARiQPGXS+Is1L2l",
   "collapsed_sections": [
    "pqAN987uVWAU"
   ],
   "include_colab_link": true,
   "provenance": []
  },
  "kernelspec": {
   "display_name": "base",
   "language": "python",
   "name": "python3"
  },
  "language_info": {
   "codemirror_mode": {
    "name": "ipython",
    "version": 3
   },
   "file_extension": ".py",
   "mimetype": "text/x-python",
   "name": "python",
   "nbconvert_exporter": "python",
   "pygments_lexer": "ipython3",
   "version": "3.12.3"
  }
 },
 "nbformat": 4,
 "nbformat_minor": 0
}
